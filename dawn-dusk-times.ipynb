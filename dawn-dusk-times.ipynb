{
 "cells": [
  {
   "cell_type": "markdown",
   "id": "8f2e3afe-5e19-4ca2-9e79-69dab69bd951",
   "metadata": {},
   "source": [
    "## Seoul Dawn and Dusk Times\n",
    "\n",
    "This notebook documents using the Astral package to calculate dawn and dusk times for Seoul between 01-12-2017 to 30-11-2018."
   ]
  },
  {
   "cell_type": "code",
   "execution_count": 1,
   "id": "5a0d6bed-4320-499e-9d86-7027634c5026",
   "metadata": {},
   "outputs": [],
   "source": [
    "import pandas as pd\n",
    "\n",
    "from astral.geocoder import lookup, database\n",
    "from astral import LocationInfo\n",
    "from astral.sun import sun\n",
    "from zoneinfo import ZoneInfo\n",
    "from datetime import time"
   ]
  },
  {
   "cell_type": "code",
   "execution_count": 2,
   "id": "90b80428-d1ff-40a9-9f5f-3574883bbf49",
   "metadata": {},
   "outputs": [
    {
     "data": {
      "text/plain": [
       "LocationInfo(name='Seoul', region='Republic of Korea', timezone='Asia/Seoul', latitude=37.516666666666666, longitude=126.96666666666667)"
      ]
     },
     "execution_count": 2,
     "metadata": {},
     "output_type": "execute_result"
    }
   ],
   "source": [
    "# looking up location information for Seoul, Korea\n",
    "lookup(\"Seoul\", database())"
   ]
  },
  {
   "cell_type": "code",
   "execution_count": 3,
   "id": "19e19460-3d59-4bf6-a6e8-7855bccbdaa4",
   "metadata": {},
   "outputs": [],
   "source": [
    "# assigning the corresponding city, timezone and date range to variables\n",
    "city = LocationInfo(\"Seoul\", \"Republic of Korea\", \"Asia/Seoul\", 37.52, 126.967)\n",
    "timezone = ZoneInfo(\"Asia/Seoul\")\n",
    "x = pd.date_range(start=\"2017-12-01\",end=\"2018-11-30\")\n",
    "\n",
    "# creating a dataframe with sun data from the Astral package\n",
    "sun_info = pd.DataFrame([sun(city.observer, date=z, tzinfo=timezone) for z in x])"
   ]
  },
  {
   "cell_type": "code",
   "execution_count": 4,
   "id": "2ef4c058-9e98-4a57-a067-2c3f2e998528",
   "metadata": {},
   "outputs": [
    {
     "data": {
      "text/html": [
       "<div>\n",
       "<style scoped>\n",
       "    .dataframe tbody tr th:only-of-type {\n",
       "        vertical-align: middle;\n",
       "    }\n",
       "\n",
       "    .dataframe tbody tr th {\n",
       "        vertical-align: top;\n",
       "    }\n",
       "\n",
       "    .dataframe thead th {\n",
       "        text-align: right;\n",
       "    }\n",
       "</style>\n",
       "<table border=\"1\" class=\"dataframe\">\n",
       "  <thead>\n",
       "    <tr style=\"text-align: right;\">\n",
       "      <th></th>\n",
       "      <th>dawn</th>\n",
       "      <th>sunrise</th>\n",
       "      <th>noon</th>\n",
       "      <th>sunset</th>\n",
       "      <th>dusk</th>\n",
       "      <th>date</th>\n",
       "    </tr>\n",
       "  </thead>\n",
       "  <tbody>\n",
       "    <tr>\n",
       "      <th>0</th>\n",
       "      <td>2017-12-01 06:58:41.124894+09:00</td>\n",
       "      <td>2017-12-01 07:28:01.289175+09:00</td>\n",
       "      <td>2017-12-01 12:21:03+09:00</td>\n",
       "      <td>2017-12-01 17:13:57.993794+09:00</td>\n",
       "      <td>2017-12-01 17:43:18.063001+09:00</td>\n",
       "      <td>2017-12-01</td>\n",
       "    </tr>\n",
       "    <tr>\n",
       "      <th>1</th>\n",
       "      <td>2017-12-02 06:59:34.840849+09:00</td>\n",
       "      <td>2017-12-02 07:28:57.849712+09:00</td>\n",
       "      <td>2017-12-02 12:21:26+09:00</td>\n",
       "      <td>2017-12-02 17:13:47.679953+09:00</td>\n",
       "      <td>2017-12-02 17:43:10.603905+09:00</td>\n",
       "      <td>2017-12-02</td>\n",
       "    </tr>\n",
       "    <tr>\n",
       "      <th>2</th>\n",
       "      <td>2017-12-03 07:00:27.808583+09:00</td>\n",
       "      <td>2017-12-03 07:29:53.559426+09:00</td>\n",
       "      <td>2017-12-03 12:21:49+09:00</td>\n",
       "      <td>2017-12-03 17:13:39.450266+09:00</td>\n",
       "      <td>2017-12-03 17:43:05.125579+09:00</td>\n",
       "      <td>2017-12-03</td>\n",
       "    </tr>\n",
       "    <tr>\n",
       "      <th>3</th>\n",
       "      <td>2017-12-04 07:01:19.981740+09:00</td>\n",
       "      <td>2017-12-04 07:30:48.366537+09:00</td>\n",
       "      <td>2017-12-04 12:22:13+09:00</td>\n",
       "      <td>2017-12-04 17:13:33.309232+09:00</td>\n",
       "      <td>2017-12-04 17:43:01.627122+09:00</td>\n",
       "      <td>2017-12-04</td>\n",
       "    </tr>\n",
       "    <tr>\n",
       "      <th>4</th>\n",
       "      <td>2017-12-05 07:02:11.313759+09:00</td>\n",
       "      <td>2017-12-05 07:31:42.219195+09:00</td>\n",
       "      <td>2017-12-05 12:22:37+09:00</td>\n",
       "      <td>2017-12-05 17:13:29.259572+09:00</td>\n",
       "      <td>2017-12-05 17:43:00.106002+09:00</td>\n",
       "      <td>2017-12-05</td>\n",
       "    </tr>\n",
       "  </tbody>\n",
       "</table>\n",
       "</div>"
      ],
      "text/plain": [
       "                              dawn                          sunrise  \\\n",
       "0 2017-12-01 06:58:41.124894+09:00 2017-12-01 07:28:01.289175+09:00   \n",
       "1 2017-12-02 06:59:34.840849+09:00 2017-12-02 07:28:57.849712+09:00   \n",
       "2 2017-12-03 07:00:27.808583+09:00 2017-12-03 07:29:53.559426+09:00   \n",
       "3 2017-12-04 07:01:19.981740+09:00 2017-12-04 07:30:48.366537+09:00   \n",
       "4 2017-12-05 07:02:11.313759+09:00 2017-12-05 07:31:42.219195+09:00   \n",
       "\n",
       "                       noon                           sunset  \\\n",
       "0 2017-12-01 12:21:03+09:00 2017-12-01 17:13:57.993794+09:00   \n",
       "1 2017-12-02 12:21:26+09:00 2017-12-02 17:13:47.679953+09:00   \n",
       "2 2017-12-03 12:21:49+09:00 2017-12-03 17:13:39.450266+09:00   \n",
       "3 2017-12-04 12:22:13+09:00 2017-12-04 17:13:33.309232+09:00   \n",
       "4 2017-12-05 12:22:37+09:00 2017-12-05 17:13:29.259572+09:00   \n",
       "\n",
       "                              dusk       date  \n",
       "0 2017-12-01 17:43:18.063001+09:00 2017-12-01  \n",
       "1 2017-12-02 17:43:10.603905+09:00 2017-12-02  \n",
       "2 2017-12-03 17:43:05.125579+09:00 2017-12-03  \n",
       "3 2017-12-04 17:43:01.627122+09:00 2017-12-04  \n",
       "4 2017-12-05 17:43:00.106002+09:00 2017-12-05  "
      ]
     },
     "execution_count": 4,
     "metadata": {},
     "output_type": "execute_result"
    }
   ],
   "source": [
    "# adding column for date to dataframe\n",
    "sun_info['date'] = x\n",
    "sun_info.head()"
   ]
  },
  {
   "cell_type": "code",
   "execution_count": 5,
   "id": "07814c1c-6b62-423d-93a8-df3cc7c76c83",
   "metadata": {},
   "outputs": [],
   "source": [
    "sun_info.drop(['sunrise', 'noon', 'sunset'], axis=1, inplace=True)"
   ]
  },
  {
   "cell_type": "code",
   "execution_count": 6,
   "id": "7f23b3c5-349a-4e37-b0a2-60611af91525",
   "metadata": {},
   "outputs": [],
   "source": [
    "# extracting time from dawn and dusk columns\n",
    "sun_info.dawn = sun_info.dawn.map(lambda x: x.time())\n",
    "sun_info.dusk = sun_info.dusk.map(lambda x: x.time())"
   ]
  },
  {
   "cell_type": "code",
   "execution_count": 7,
   "id": "4632a67c-e49a-49f8-9c79-2b5ed3521aac",
   "metadata": {},
   "outputs": [
    {
     "data": {
      "text/html": [
       "<div>\n",
       "<style scoped>\n",
       "    .dataframe tbody tr th:only-of-type {\n",
       "        vertical-align: middle;\n",
       "    }\n",
       "\n",
       "    .dataframe tbody tr th {\n",
       "        vertical-align: top;\n",
       "    }\n",
       "\n",
       "    .dataframe thead th {\n",
       "        text-align: right;\n",
       "    }\n",
       "</style>\n",
       "<table border=\"1\" class=\"dataframe\">\n",
       "  <thead>\n",
       "    <tr style=\"text-align: right;\">\n",
       "      <th></th>\n",
       "      <th>dawn</th>\n",
       "      <th>dusk</th>\n",
       "      <th>date</th>\n",
       "    </tr>\n",
       "  </thead>\n",
       "  <tbody>\n",
       "    <tr>\n",
       "      <th>0</th>\n",
       "      <td>06:58:41.124894</td>\n",
       "      <td>17:43:18.063001</td>\n",
       "      <td>2017-12-01</td>\n",
       "    </tr>\n",
       "    <tr>\n",
       "      <th>1</th>\n",
       "      <td>06:59:34.840849</td>\n",
       "      <td>17:43:10.603905</td>\n",
       "      <td>2017-12-02</td>\n",
       "    </tr>\n",
       "    <tr>\n",
       "      <th>2</th>\n",
       "      <td>07:00:27.808583</td>\n",
       "      <td>17:43:05.125579</td>\n",
       "      <td>2017-12-03</td>\n",
       "    </tr>\n",
       "    <tr>\n",
       "      <th>3</th>\n",
       "      <td>07:01:19.981740</td>\n",
       "      <td>17:43:01.627122</td>\n",
       "      <td>2017-12-04</td>\n",
       "    </tr>\n",
       "    <tr>\n",
       "      <th>4</th>\n",
       "      <td>07:02:11.313759</td>\n",
       "      <td>17:43:00.106002</td>\n",
       "      <td>2017-12-05</td>\n",
       "    </tr>\n",
       "  </tbody>\n",
       "</table>\n",
       "</div>"
      ],
      "text/plain": [
       "              dawn             dusk       date\n",
       "0  06:58:41.124894  17:43:18.063001 2017-12-01\n",
       "1  06:59:34.840849  17:43:10.603905 2017-12-02\n",
       "2  07:00:27.808583  17:43:05.125579 2017-12-03\n",
       "3  07:01:19.981740  17:43:01.627122 2017-12-04\n",
       "4  07:02:11.313759  17:43:00.106002 2017-12-05"
      ]
     },
     "execution_count": 7,
     "metadata": {},
     "output_type": "execute_result"
    }
   ],
   "source": [
    "sun_info.head()"
   ]
  },
  {
   "cell_type": "code",
   "execution_count": 8,
   "id": "0c64ff73-aeee-407d-9a28-6cc5084c681e",
   "metadata": {},
   "outputs": [
    {
     "name": "stdout",
     "output_type": "stream",
     "text": [
      "<class 'pandas.core.frame.DataFrame'>\n",
      "RangeIndex: 365 entries, 0 to 364\n",
      "Data columns (total 3 columns):\n",
      " #   Column  Non-Null Count  Dtype         \n",
      "---  ------  --------------  -----         \n",
      " 0   dawn    365 non-null    object        \n",
      " 1   dusk    365 non-null    object        \n",
      " 2   date    365 non-null    datetime64[ns]\n",
      "dtypes: datetime64[ns](1), object(2)\n",
      "memory usage: 8.7+ KB\n"
     ]
    }
   ],
   "source": [
    "sun_info.info()"
   ]
  },
  {
   "cell_type": "code",
   "execution_count": 9,
   "id": "a5b1a2f3-9860-4e96-9668-0d32a1f1da91",
   "metadata": {},
   "outputs": [],
   "source": [
    "# saving dataframe to csv\n",
    "sun_info.to_csv('./data/Sun_Info.csv')"
   ]
  }
 ],
 "metadata": {
  "kernelspec": {
   "display_name": "Python 3 (ipykernel)",
   "language": "python",
   "name": "python3"
  },
  "language_info": {
   "codemirror_mode": {
    "name": "ipython",
    "version": 3
   },
   "file_extension": ".py",
   "mimetype": "text/x-python",
   "name": "python",
   "nbconvert_exporter": "python",
   "pygments_lexer": "ipython3",
   "version": "3.9.16"
  }
 },
 "nbformat": 4,
 "nbformat_minor": 5
}
